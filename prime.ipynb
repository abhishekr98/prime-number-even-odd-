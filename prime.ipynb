{
 "cells": [
  {
   "cell_type": "code",
   "execution_count": 21,
   "id": "4f297476",
   "metadata": {},
   "outputs": [
    {
     "name": "stdout",
     "output_type": "stream",
     "text": [
      "enter the number: 7\n",
      "number 7 is prime and odd and cube is:  343\n"
     ]
    }
   ],
   "source": [
    "n = int(input(\"enter the number: \"))\n",
    "n_prime = False\n",
    "\n",
    "for i in range(2,n):\n",
    "    if(n%i) == 0:\n",
    "        n_prime = True\n",
    "        break\n",
    "        \n",
    "if n_prime:\n",
    "    print(\"The number\",n,\"is not prime\")\n",
    "else:\n",
    "    if n%2!=0:\n",
    "        print(\"number\",n,\"is prime and odd and cube is: \",n**3)\n",
    "    else:\n",
    "        print(\"number\",n,\"is prime and even and square is: \",n**2)"
   ]
  },
  {
   "cell_type": "code",
   "execution_count": 32,
   "id": "6070a42d",
   "metadata": {},
   "outputs": [
    {
     "name": "stdout",
     "output_type": "stream",
     "text": [
      "enter number: 7\n",
      "number is odd: 7 and cube is: 343\n"
     ]
    }
   ],
   "source": [
    "def e_o(n):\n",
    "    if n%2==0:\n",
    "        return print(\"number is even:\",n,\"and square is:\",n**2)\n",
    "    return print(\"number is odd:\",n,\"and cube is:\",n**3)\n",
    "\n",
    "num=int(input(\"enter number: \"))\n",
    "e_o(num)"
   ]
  },
  {
   "cell_type": "code",
   "execution_count": null,
   "id": "6ee01ee0",
   "metadata": {},
   "outputs": [],
   "source": []
  }
 ],
 "metadata": {
  "kernelspec": {
   "display_name": "Python 3",
   "language": "python",
   "name": "python3"
  },
  "language_info": {
   "codemirror_mode": {
    "name": "ipython",
    "version": 3
   },
   "file_extension": ".py",
   "mimetype": "text/x-python",
   "name": "python",
   "nbconvert_exporter": "python",
   "pygments_lexer": "ipython3",
   "version": "3.8.8"
  }
 },
 "nbformat": 4,
 "nbformat_minor": 5
}
